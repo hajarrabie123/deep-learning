{
  "nbformat": 4,
  "nbformat_minor": 0,
  "metadata": {
    "colab": {
      "provenance": []
    },
    "kernelspec": {
      "name": "python3",
      "display_name": "Python 3"
    },
    "language_info": {
      "name": "python"
    }
  },
  "cells": [
    {
      "cell_type": "code",
      "execution_count": 1,
      "metadata": {
        "colab": {
          "base_uri": "https://localhost:8080/",
          "height": 206
        },
        "id": "qek89eiGvDbe",
        "outputId": "f95c9907-7a8a-46a4-a622-7fecef4e4812"
      },
      "outputs": [
        {
          "output_type": "execute_result",
          "data": {
            "text/plain": [
              "                               Title                Company    Location  \\\n",
              "0             Customer Service Agent       Johnson Controls   New Cairo   \n",
              "1                  Marketing Manager  SYE English Community       Dokki   \n",
              "2  Medical Representative Heliopolis        So Value Pharma       Cairo   \n",
              "3          Order Handling Specialist       Johnson Controls   New Cairo   \n",
              "4                        Storekeeper           Confidential       Cairo   \n",
              "\n",
              "        Type        Level         YearsExp Country  \\\n",
              "0  Full Time  Entry Level   1-3 Yrs of Exp   Cairo   \n",
              "1  Full Time      Manager  5-10 Yrs of Exp    Giza   \n",
              "2  Full Time  Entry Level   0-5 Yrs of Exp   Egypt   \n",
              "3  Full Time  Experienced   3-5 Yrs of Exp   Cairo   \n",
              "4  Full Time  Experienced    3+ Yrs of Exp   Egypt   \n",
              "\n",
              "                                              Skills  \n",
              "0  Call Center, Customer Support, Customer Care, ...  \n",
              "1  Market Research, Social Media, Online Marketin...  \n",
              "2  Cardio-metabolic, Sales Skills, Sales Target, ...  \n",
              "3  Supply Officer, Supply Planner, Procurement an...  \n",
              "4  Warehousing, Storekeeping, Logistics/Supply Chain  "
            ],
            "text/html": [
              "\n",
              "  <div id=\"df-997300d8-469d-432f-a147-28c819766e46\">\n",
              "    <div class=\"colab-df-container\">\n",
              "      <div>\n",
              "<style scoped>\n",
              "    .dataframe tbody tr th:only-of-type {\n",
              "        vertical-align: middle;\n",
              "    }\n",
              "\n",
              "    .dataframe tbody tr th {\n",
              "        vertical-align: top;\n",
              "    }\n",
              "\n",
              "    .dataframe thead th {\n",
              "        text-align: right;\n",
              "    }\n",
              "</style>\n",
              "<table border=\"1\" class=\"dataframe\">\n",
              "  <thead>\n",
              "    <tr style=\"text-align: right;\">\n",
              "      <th></th>\n",
              "      <th>Title</th>\n",
              "      <th>Company</th>\n",
              "      <th>Location</th>\n",
              "      <th>Type</th>\n",
              "      <th>Level</th>\n",
              "      <th>YearsExp</th>\n",
              "      <th>Country</th>\n",
              "      <th>Skills</th>\n",
              "    </tr>\n",
              "  </thead>\n",
              "  <tbody>\n",
              "    <tr>\n",
              "      <th>0</th>\n",
              "      <td>Customer Service Agent</td>\n",
              "      <td>Johnson Controls</td>\n",
              "      <td>New Cairo</td>\n",
              "      <td>Full Time</td>\n",
              "      <td>Entry Level</td>\n",
              "      <td>1-3 Yrs of Exp</td>\n",
              "      <td>Cairo</td>\n",
              "      <td>Call Center, Customer Support, Customer Care, ...</td>\n",
              "    </tr>\n",
              "    <tr>\n",
              "      <th>1</th>\n",
              "      <td>Marketing Manager</td>\n",
              "      <td>SYE English Community</td>\n",
              "      <td>Dokki</td>\n",
              "      <td>Full Time</td>\n",
              "      <td>Manager</td>\n",
              "      <td>5-10 Yrs of Exp</td>\n",
              "      <td>Giza</td>\n",
              "      <td>Market Research, Social Media, Online Marketin...</td>\n",
              "    </tr>\n",
              "    <tr>\n",
              "      <th>2</th>\n",
              "      <td>Medical Representative Heliopolis</td>\n",
              "      <td>So Value Pharma</td>\n",
              "      <td>Cairo</td>\n",
              "      <td>Full Time</td>\n",
              "      <td>Entry Level</td>\n",
              "      <td>0-5 Yrs of Exp</td>\n",
              "      <td>Egypt</td>\n",
              "      <td>Cardio-metabolic, Sales Skills, Sales Target, ...</td>\n",
              "    </tr>\n",
              "    <tr>\n",
              "      <th>3</th>\n",
              "      <td>Order Handling Specialist</td>\n",
              "      <td>Johnson Controls</td>\n",
              "      <td>New Cairo</td>\n",
              "      <td>Full Time</td>\n",
              "      <td>Experienced</td>\n",
              "      <td>3-5 Yrs of Exp</td>\n",
              "      <td>Cairo</td>\n",
              "      <td>Supply Officer, Supply Planner, Procurement an...</td>\n",
              "    </tr>\n",
              "    <tr>\n",
              "      <th>4</th>\n",
              "      <td>Storekeeper</td>\n",
              "      <td>Confidential</td>\n",
              "      <td>Cairo</td>\n",
              "      <td>Full Time</td>\n",
              "      <td>Experienced</td>\n",
              "      <td>3+ Yrs of Exp</td>\n",
              "      <td>Egypt</td>\n",
              "      <td>Warehousing, Storekeeping, Logistics/Supply Chain</td>\n",
              "    </tr>\n",
              "  </tbody>\n",
              "</table>\n",
              "</div>\n",
              "      <button class=\"colab-df-convert\" onclick=\"convertToInteractive('df-997300d8-469d-432f-a147-28c819766e46')\"\n",
              "              title=\"Convert this dataframe to an interactive table.\"\n",
              "              style=\"display:none;\">\n",
              "        \n",
              "  <svg xmlns=\"http://www.w3.org/2000/svg\" height=\"24px\"viewBox=\"0 0 24 24\"\n",
              "       width=\"24px\">\n",
              "    <path d=\"M0 0h24v24H0V0z\" fill=\"none\"/>\n",
              "    <path d=\"M18.56 5.44l.94 2.06.94-2.06 2.06-.94-2.06-.94-.94-2.06-.94 2.06-2.06.94zm-11 1L8.5 8.5l.94-2.06 2.06-.94-2.06-.94L8.5 2.5l-.94 2.06-2.06.94zm10 10l.94 2.06.94-2.06 2.06-.94-2.06-.94-.94-2.06-.94 2.06-2.06.94z\"/><path d=\"M17.41 7.96l-1.37-1.37c-.4-.4-.92-.59-1.43-.59-.52 0-1.04.2-1.43.59L10.3 9.45l-7.72 7.72c-.78.78-.78 2.05 0 2.83L4 21.41c.39.39.9.59 1.41.59.51 0 1.02-.2 1.41-.59l7.78-7.78 2.81-2.81c.8-.78.8-2.07 0-2.86zM5.41 20L4 18.59l7.72-7.72 1.47 1.35L5.41 20z\"/>\n",
              "  </svg>\n",
              "      </button>\n",
              "      \n",
              "  <style>\n",
              "    .colab-df-container {\n",
              "      display:flex;\n",
              "      flex-wrap:wrap;\n",
              "      gap: 12px;\n",
              "    }\n",
              "\n",
              "    .colab-df-convert {\n",
              "      background-color: #E8F0FE;\n",
              "      border: none;\n",
              "      border-radius: 50%;\n",
              "      cursor: pointer;\n",
              "      display: none;\n",
              "      fill: #1967D2;\n",
              "      height: 32px;\n",
              "      padding: 0 0 0 0;\n",
              "      width: 32px;\n",
              "    }\n",
              "\n",
              "    .colab-df-convert:hover {\n",
              "      background-color: #E2EBFA;\n",
              "      box-shadow: 0px 1px 2px rgba(60, 64, 67, 0.3), 0px 1px 3px 1px rgba(60, 64, 67, 0.15);\n",
              "      fill: #174EA6;\n",
              "    }\n",
              "\n",
              "    [theme=dark] .colab-df-convert {\n",
              "      background-color: #3B4455;\n",
              "      fill: #D2E3FC;\n",
              "    }\n",
              "\n",
              "    [theme=dark] .colab-df-convert:hover {\n",
              "      background-color: #434B5C;\n",
              "      box-shadow: 0px 1px 3px 1px rgba(0, 0, 0, 0.15);\n",
              "      filter: drop-shadow(0px 1px 2px rgba(0, 0, 0, 0.3));\n",
              "      fill: #FFFFFF;\n",
              "    }\n",
              "  </style>\n",
              "\n",
              "      <script>\n",
              "        const buttonEl =\n",
              "          document.querySelector('#df-997300d8-469d-432f-a147-28c819766e46 button.colab-df-convert');\n",
              "        buttonEl.style.display =\n",
              "          google.colab.kernel.accessAllowed ? 'block' : 'none';\n",
              "\n",
              "        async function convertToInteractive(key) {\n",
              "          const element = document.querySelector('#df-997300d8-469d-432f-a147-28c819766e46');\n",
              "          const dataTable =\n",
              "            await google.colab.kernel.invokeFunction('convertToInteractive',\n",
              "                                                     [key], {});\n",
              "          if (!dataTable) return;\n",
              "\n",
              "          const docLinkHtml = 'Like what you see? Visit the ' +\n",
              "            '<a target=\"_blank\" href=https://colab.research.google.com/notebooks/data_table.ipynb>data table notebook</a>'\n",
              "            + ' to learn more about interactive tables.';\n",
              "          element.innerHTML = '';\n",
              "          dataTable['output_type'] = 'display_data';\n",
              "          await google.colab.output.renderOutput(dataTable, element);\n",
              "          const docLink = document.createElement('div');\n",
              "          docLink.innerHTML = docLinkHtml;\n",
              "          element.appendChild(docLink);\n",
              "        }\n",
              "      </script>\n",
              "    </div>\n",
              "  </div>\n",
              "  "
            ]
          },
          "metadata": {},
          "execution_count": 1
        }
      ],
      "source": [
        "import pandas as pd\n",
        "import matplotlib.pyplot as plt\n",
        "import numpy as np\n",
        "from sklearn.impute import SimpleImputer #imputation missing data \n",
        "df=pd.read_csv(\"/content/Wuzzuf_Jobs.csv\")\n",
        "d1=pd.DataFrame(df)\n",
        "d1.head(5)\n"
      ]
    },
    {
      "cell_type": "code",
      "source": [
        "\n",
        "df.sort_values(\"Title\", inplace = True)\n",
        "df.drop_duplicates(keep = \"first\", inplace = True)\n",
        "X = df.iloc[:, :-1].values\n",
        "y = df.iloc[:, 7].values\n",
        "imputer = SimpleImputer(missing_values = \"\", strategy = 'most_frequent')\n",
        "imputer = imputer.fit(X[:, 0:7])\n",
        "X[:, 0:7] = imputer.transform(X[:, 0:7])\n"
      ],
      "metadata": {
        "id": "XHV2jKcqvHyf"
      },
      "execution_count": 2,
      "outputs": []
    },
    {
      "cell_type": "code",
      "source": [
        "df.describe()\n"
      ],
      "metadata": {
        "colab": {
          "base_uri": "https://localhost:8080/",
          "height": 175
        },
        "id": "SI3VsF0XvlK_",
        "outputId": "8d695297-6ade-4058-8fad-964161a0da57"
      },
      "execution_count": 3,
      "outputs": [
        {
          "output_type": "execute_result",
          "data": {
            "text/plain": [
              "             Title       Company Location       Type        Level  \\\n",
              "count         4377          4377     4377       4377         4377   \n",
              "unique        2965          1534      162          6            9   \n",
              "top     Accountant  Confidential    Cairo  Full Time  Experienced   \n",
              "freq            57           590      563       4166         2196   \n",
              "\n",
              "              YearsExp Country  \\\n",
              "count             4377    4377   \n",
              "unique             101      42   \n",
              "top     1-3 Yrs of Exp   Cairo   \n",
              "freq               414    2227   \n",
              "\n",
              "                                                   Skills  \n",
              "count                                                4377  \n",
              "unique                                               4227  \n",
              "top     Corporate Sales, Real Estate, Advertising, Mar...  \n",
              "freq                                                   12  "
            ],
            "text/html": [
              "\n",
              "  <div id=\"df-034d94aa-ce4f-4ff8-bc99-04699e4aeef7\">\n",
              "    <div class=\"colab-df-container\">\n",
              "      <div>\n",
              "<style scoped>\n",
              "    .dataframe tbody tr th:only-of-type {\n",
              "        vertical-align: middle;\n",
              "    }\n",
              "\n",
              "    .dataframe tbody tr th {\n",
              "        vertical-align: top;\n",
              "    }\n",
              "\n",
              "    .dataframe thead th {\n",
              "        text-align: right;\n",
              "    }\n",
              "</style>\n",
              "<table border=\"1\" class=\"dataframe\">\n",
              "  <thead>\n",
              "    <tr style=\"text-align: right;\">\n",
              "      <th></th>\n",
              "      <th>Title</th>\n",
              "      <th>Company</th>\n",
              "      <th>Location</th>\n",
              "      <th>Type</th>\n",
              "      <th>Level</th>\n",
              "      <th>YearsExp</th>\n",
              "      <th>Country</th>\n",
              "      <th>Skills</th>\n",
              "    </tr>\n",
              "  </thead>\n",
              "  <tbody>\n",
              "    <tr>\n",
              "      <th>count</th>\n",
              "      <td>4377</td>\n",
              "      <td>4377</td>\n",
              "      <td>4377</td>\n",
              "      <td>4377</td>\n",
              "      <td>4377</td>\n",
              "      <td>4377</td>\n",
              "      <td>4377</td>\n",
              "      <td>4377</td>\n",
              "    </tr>\n",
              "    <tr>\n",
              "      <th>unique</th>\n",
              "      <td>2965</td>\n",
              "      <td>1534</td>\n",
              "      <td>162</td>\n",
              "      <td>6</td>\n",
              "      <td>9</td>\n",
              "      <td>101</td>\n",
              "      <td>42</td>\n",
              "      <td>4227</td>\n",
              "    </tr>\n",
              "    <tr>\n",
              "      <th>top</th>\n",
              "      <td>Accountant</td>\n",
              "      <td>Confidential</td>\n",
              "      <td>Cairo</td>\n",
              "      <td>Full Time</td>\n",
              "      <td>Experienced</td>\n",
              "      <td>1-3 Yrs of Exp</td>\n",
              "      <td>Cairo</td>\n",
              "      <td>Corporate Sales, Real Estate, Advertising, Mar...</td>\n",
              "    </tr>\n",
              "    <tr>\n",
              "      <th>freq</th>\n",
              "      <td>57</td>\n",
              "      <td>590</td>\n",
              "      <td>563</td>\n",
              "      <td>4166</td>\n",
              "      <td>2196</td>\n",
              "      <td>414</td>\n",
              "      <td>2227</td>\n",
              "      <td>12</td>\n",
              "    </tr>\n",
              "  </tbody>\n",
              "</table>\n",
              "</div>\n",
              "      <button class=\"colab-df-convert\" onclick=\"convertToInteractive('df-034d94aa-ce4f-4ff8-bc99-04699e4aeef7')\"\n",
              "              title=\"Convert this dataframe to an interactive table.\"\n",
              "              style=\"display:none;\">\n",
              "        \n",
              "  <svg xmlns=\"http://www.w3.org/2000/svg\" height=\"24px\"viewBox=\"0 0 24 24\"\n",
              "       width=\"24px\">\n",
              "    <path d=\"M0 0h24v24H0V0z\" fill=\"none\"/>\n",
              "    <path d=\"M18.56 5.44l.94 2.06.94-2.06 2.06-.94-2.06-.94-.94-2.06-.94 2.06-2.06.94zm-11 1L8.5 8.5l.94-2.06 2.06-.94-2.06-.94L8.5 2.5l-.94 2.06-2.06.94zm10 10l.94 2.06.94-2.06 2.06-.94-2.06-.94-.94-2.06-.94 2.06-2.06.94z\"/><path d=\"M17.41 7.96l-1.37-1.37c-.4-.4-.92-.59-1.43-.59-.52 0-1.04.2-1.43.59L10.3 9.45l-7.72 7.72c-.78.78-.78 2.05 0 2.83L4 21.41c.39.39.9.59 1.41.59.51 0 1.02-.2 1.41-.59l7.78-7.78 2.81-2.81c.8-.78.8-2.07 0-2.86zM5.41 20L4 18.59l7.72-7.72 1.47 1.35L5.41 20z\"/>\n",
              "  </svg>\n",
              "      </button>\n",
              "      \n",
              "  <style>\n",
              "    .colab-df-container {\n",
              "      display:flex;\n",
              "      flex-wrap:wrap;\n",
              "      gap: 12px;\n",
              "    }\n",
              "\n",
              "    .colab-df-convert {\n",
              "      background-color: #E8F0FE;\n",
              "      border: none;\n",
              "      border-radius: 50%;\n",
              "      cursor: pointer;\n",
              "      display: none;\n",
              "      fill: #1967D2;\n",
              "      height: 32px;\n",
              "      padding: 0 0 0 0;\n",
              "      width: 32px;\n",
              "    }\n",
              "\n",
              "    .colab-df-convert:hover {\n",
              "      background-color: #E2EBFA;\n",
              "      box-shadow: 0px 1px 2px rgba(60, 64, 67, 0.3), 0px 1px 3px 1px rgba(60, 64, 67, 0.15);\n",
              "      fill: #174EA6;\n",
              "    }\n",
              "\n",
              "    [theme=dark] .colab-df-convert {\n",
              "      background-color: #3B4455;\n",
              "      fill: #D2E3FC;\n",
              "    }\n",
              "\n",
              "    [theme=dark] .colab-df-convert:hover {\n",
              "      background-color: #434B5C;\n",
              "      box-shadow: 0px 1px 3px 1px rgba(0, 0, 0, 0.15);\n",
              "      filter: drop-shadow(0px 1px 2px rgba(0, 0, 0, 0.3));\n",
              "      fill: #FFFFFF;\n",
              "    }\n",
              "  </style>\n",
              "\n",
              "      <script>\n",
              "        const buttonEl =\n",
              "          document.querySelector('#df-034d94aa-ce4f-4ff8-bc99-04699e4aeef7 button.colab-df-convert');\n",
              "        buttonEl.style.display =\n",
              "          google.colab.kernel.accessAllowed ? 'block' : 'none';\n",
              "\n",
              "        async function convertToInteractive(key) {\n",
              "          const element = document.querySelector('#df-034d94aa-ce4f-4ff8-bc99-04699e4aeef7');\n",
              "          const dataTable =\n",
              "            await google.colab.kernel.invokeFunction('convertToInteractive',\n",
              "                                                     [key], {});\n",
              "          if (!dataTable) return;\n",
              "\n",
              "          const docLinkHtml = 'Like what you see? Visit the ' +\n",
              "            '<a target=\"_blank\" href=https://colab.research.google.com/notebooks/data_table.ipynb>data table notebook</a>'\n",
              "            + ' to learn more about interactive tables.';\n",
              "          element.innerHTML = '';\n",
              "          dataTable['output_type'] = 'display_data';\n",
              "          await google.colab.output.renderOutput(dataTable, element);\n",
              "          const docLink = document.createElement('div');\n",
              "          docLink.innerHTML = docLinkHtml;\n",
              "          element.appendChild(docLink);\n",
              "        }\n",
              "      </script>\n",
              "    </div>\n",
              "  </div>\n",
              "  "
            ]
          },
          "metadata": {},
          "execution_count": 3
        }
      ]
    },
    {
      "cell_type": "code",
      "source": [
        "#cleaning dataset\n",
        "df.sort_values(\"Title\", inplace = True)\n",
        "df.drop_duplicates(keep = \"first\", inplace = True)\n",
        "X = df.iloc[:, :-1].values\n",
        "y = df.iloc[:, 7].values\n",
        "\n",
        "imputer = SimpleImputer(missing_values = \"\", strategy = 'most_frequent')\n",
        "imputer = imputer.fit(X[:, 0:7])\n",
        "X[:, 0:7] = imputer.transform(X[:, 0:7])\n"
      ],
      "metadata": {
        "id": "BYGOIXbhvHvn"
      },
      "execution_count": 4,
      "outputs": []
    },
    {
      "cell_type": "code",
      "source": [
        "df['Company'].value_counts().head()"
      ],
      "metadata": {
        "id": "bvac6Pblx2mU",
        "outputId": "74e2d4fd-e351-4931-c3e8-3b7d7f001af5",
        "colab": {
          "base_uri": "https://localhost:8080/"
        }
      },
      "execution_count": 5,
      "outputs": [
        {
          "output_type": "execute_result",
          "data": {
            "text/plain": [
              "Confidential    590\n",
              "Mishkat Nour     39\n",
              "Expand Cart      35\n",
              "EGIC             34\n",
              "Aqarmap.com      25\n",
              "Name: Company, dtype: int64"
            ]
          },
          "metadata": {},
          "execution_count": 5
        }
      ]
    },
    {
      "cell_type": "code",
      "source": [
        "#compny\n",
        "numOfjops=df['Company'].value_counts().head()\n",
        "print(numOfjops)\n",
        "labels=list(numOfjops.keys())\n",
        "plt.pie(numOfjops,labels = labels)\n",
        "plt.show()\n"
      ],
      "metadata": {
        "id": "nmKGvWUUwvX-",
        "outputId": "8df699a0-acec-42f2-b410-c1cdb8c6c220",
        "colab": {
          "base_uri": "https://localhost:8080/",
          "height": 352
        }
      },
      "execution_count": 6,
      "outputs": [
        {
          "output_type": "stream",
          "name": "stdout",
          "text": [
            "Confidential    590\n",
            "Mishkat Nour     39\n",
            "Expand Cart      35\n",
            "EGIC             34\n",
            "Aqarmap.com      25\n",
            "Name: Company, dtype: int64\n"
          ]
        },
        {
          "output_type": "display_data",
          "data": {
            "text/plain": [
              "<Figure size 432x288 with 1 Axes>"
            ],
            "image/png": "[encoded data removed]"
          },
          "metadata": {}
        }
      ]
    },
    {
      "cell_type": "code",
      "source": [
        "#jops\n",
        "jobs=df['Title'].value_counts().head()\n",
        "print(jobs)\n",
        "plt.xlabel(\"job_title\")\n",
        "plt.ylabel(\"NumberOfjop\")\n",
        "plt.title(\"most popular jop\")\n",
        "jobLabels=jobs.keys()\n",
        "plt.bar(jobLabels,jobs)\n",
        "plt.show()\n"
      ],
      "metadata": {
        "id": "RlW6x8RQxgtM",
        "outputId": "a0f62921-e8e4-4bbb-9fee-eef7440d955b",
        "colab": {
          "base_uri": "https://localhost:8080/",
          "height": 400
        }
      },
      "execution_count": 7,
      "outputs": [
        {
          "output_type": "stream",
          "name": "stdout",
          "text": [
            "Accountant                      57\n",
            "Sales Representative            47\n",
            "Graphic Designer                43\n",
            "Digital Marketing Specialist    26\n",
            "Sales Manager                   25\n",
            "Name: Title, dtype: int64\n"
          ]
        },
        {
          "output_type": "display_data",
          "data": {
            "text/plain": [
              "<Figure size 432x288 with 1 Axes>"
            ],
            "image/png": "[encoded data removed]"
          },
          "metadata": {
            "needs_background": "light"
          }
        }
      ]
    },
    {
      "cell_type": "code",
      "source": [
        "#areas\n",
        "areas=df['Location'].value_counts().head()\n",
        "print(areas)\n",
        "plt.xlabel(\"Location_Name\")\n",
        "plt.ylabel(\"NumberOfLocation\")\n",
        "plt.title(\"most popular location\")\n",
        "locLable=list(areas.keys())\n",
        "plt.bar(locLable,areas)\n",
        "plt.show()\n",
        "\n"
      ],
      "metadata": {
        "id": "0jDP8XcTzsr0",
        "outputId": "006d9903-8e9e-4911-e8a3-10e5e464a80c",
        "colab": {
          "base_uri": "https://localhost:8080/",
          "height": 400
        }
      },
      "execution_count": 8,
      "outputs": [
        {
          "output_type": "stream",
          "name": "stdout",
          "text": [
            " Cairo             563\n",
            " Maadi             524\n",
            " New Cairo         520\n",
            " Nasr City         424\n",
            " 6th of October    282\n",
            "Name: Location, dtype: int64\n"
          ]
        },
        {
          "output_type": "display_data",
          "data": {
            "text/plain": [
              "<Figure size 432x288 with 1 Axes>"
            ],
            "image/png": "[encoded data removed]"
          },
          "metadata": {
            "needs_background": "light"
          }
        }
      ]
    },
    {
      "cell_type": "code",
      "source": [
        "\n",
        "skills=df['Skills'].value_counts().head()\n",
        "print(skills)\n",
        "skillsLabel=list(skills.keys())\n",
        "plt.xlabel(\"skill\")\n",
        "plt.ylabel(\"NumberOskills\")\n",
        "plt.title(\"most popular skills\")\n",
        "plt.bar(skillsLabel,skills)\n",
        "plt.show()"
      ],
      "metadata": {
        "id": "W77obVWo1Ifz",
        "outputId": "f7f70839-a32e-477c-b8cd-bcea5f3b9c52",
        "colab": {
          "base_uri": "https://localhost:8080/",
          "height": 399
        }
      },
      "execution_count": 9,
      "outputs": [
        {
          "output_type": "stream",
          "name": "stdout",
          "text": [
            "Corporate Sales, Real Estate, Advertising, Marketing, Sales Skills, Insurance, Sales Target, Outdoor Sales, Telesales, Property       12\n",
            "Logistics, SAP, Inventory, Store Keeping, Logistics/Supply Chain                                                                      11\n",
            "Sales Skills, Sales Target, Customer Services, Customer Care, Retail, Collection, Distribution, Selling Skills, Negotiation Skills    10\n",
            "Medical, Training, Family Palnning, Contraceptives, MoHP, Medical/Healthcare, Training/Instructor                                      9\n",
            "Finance, Sales Accounting, Commerce, Budget, Reporting, Accounting/Finance                                                             9\n",
            "Name: Skills, dtype: int64\n"
          ]
        },
        {
          "output_type": "display_data",
          "data": {
            "text/plain": [
              "<Figure size 432x288 with 1 Axes>"
            ],
            "image/png": "[encoded data removed]"
          },
          "metadata": {
            "needs_background": "light"
          }
        }
      ]
    },
    {
      "cell_type": "code",
      "source": [
        "df[\"Skills\"] = df[\"Skills\"].str.split(\",\")\n",
        "df.head()"
      ],
      "metadata": {
        "colab": {
          "base_uri": "https://localhost:8080/",
          "height": 206
        },
        "id": "6jVzVKQaiuFh",
        "outputId": "480bba17-2ae9-469b-bbf2-fa63fc7fd7a9"
      },
      "execution_count": 10,
      "outputs": [
        {
          "output_type": "execute_result",
          "data": {
            "text/plain": [
              "                                     Title           Company    Location  \\\n",
              "3410       .NET Angular Software Developer             Xceed       Maadi   \n",
              "2859           .NET Back-End Web Developer      Confidential       Cairo   \n",
              "1717                        .NET Developer  Beta Electronics       Dokki   \n",
              "3074                        .NET Developer      Dynamicslink   Nasr City   \n",
              "2862  .NET Developer (Desktop Application)      Confidential      Manial   \n",
              "\n",
              "           Type        Level        YearsExp Country  \\\n",
              "3410  Full Time  Experienced   5+ Yrs of Exp   Cairo   \n",
              "2859  Full Time  Experienced  2-5 Yrs of Exp   Egypt   \n",
              "1717  Full Time  Experienced  2-5 Yrs of Exp    Giza   \n",
              "3074  Full Time  Experienced  3-5 Yrs of Exp   Cairo   \n",
              "2862  Full Time  Experienced  2-5 Yrs of Exp   Cairo   \n",
              "\n",
              "                                                 Skills  \n",
              "3410  [Software Development,  Computer Science,  Sof...  \n",
              "2859  [Computer Science,  Software Development,  jav...  \n",
              "1717  [C#,  Engineering,  Computer Science,  Program...  \n",
              "3074  [Microsoft Dynamics,  ERP,  Computer Science, ...  \n",
              "2862  [Information Technology (IT),  .NET,  C#,  Sof...  "
            ],
            "text/html": [
              "\n",
              "  <div id=\"df-d33d14d9-8f10-4731-b7b5-5787526aab20\">\n",
              "    <div class=\"colab-df-container\">\n",
              "      <div>\n",
              "<style scoped>\n",
              "    .dataframe tbody tr th:only-of-type {\n",
              "        vertical-align: middle;\n",
              "    }\n",
              "\n",
              "    .dataframe tbody tr th {\n",
              "        vertical-align: top;\n",
              "    }\n",
              "\n",
              "    .dataframe thead th {\n",
              "        text-align: right;\n",
              "    }\n",
              "</style>\n",
              "<table border=\"1\" class=\"dataframe\">\n",
              "  <thead>\n",
              "    <tr style=\"text-align: right;\">\n",
              "      <th></th>\n",
              "      <th>Title</th>\n",
              "      <th>Company</th>\n",
              "      <th>Location</th>\n",
              "      <th>Type</th>\n",
              "      <th>Level</th>\n",
              "      <th>YearsExp</th>\n",
              "      <th>Country</th>\n",
              "      <th>Skills</th>\n",
              "    </tr>\n",
              "  </thead>\n",
              "  <tbody>\n",
              "    <tr>\n",
              "      <th>3410</th>\n",
              "      <td>.NET Angular Software Developer</td>\n",
              "      <td>Xceed</td>\n",
              "      <td>Maadi</td>\n",
              "      <td>Full Time</td>\n",
              "      <td>Experienced</td>\n",
              "      <td>5+ Yrs of Exp</td>\n",
              "      <td>Cairo</td>\n",
              "      <td>[Software Development,  Computer Science,  Sof...</td>\n",
              "    </tr>\n",
              "    <tr>\n",
              "      <th>2859</th>\n",
              "      <td>.NET Back-End Web Developer</td>\n",
              "      <td>Confidential</td>\n",
              "      <td>Cairo</td>\n",
              "      <td>Full Time</td>\n",
              "      <td>Experienced</td>\n",
              "      <td>2-5 Yrs of Exp</td>\n",
              "      <td>Egypt</td>\n",
              "      <td>[Computer Science,  Software Development,  jav...</td>\n",
              "    </tr>\n",
              "    <tr>\n",
              "      <th>1717</th>\n",
              "      <td>.NET Developer</td>\n",
              "      <td>Beta Electronics</td>\n",
              "      <td>Dokki</td>\n",
              "      <td>Full Time</td>\n",
              "      <td>Experienced</td>\n",
              "      <td>2-5 Yrs of Exp</td>\n",
              "      <td>Giza</td>\n",
              "      <td>[C#,  Engineering,  Computer Science,  Program...</td>\n",
              "    </tr>\n",
              "    <tr>\n",
              "      <th>3074</th>\n",
              "      <td>.NET Developer</td>\n",
              "      <td>Dynamicslink</td>\n",
              "      <td>Nasr City</td>\n",
              "      <td>Full Time</td>\n",
              "      <td>Experienced</td>\n",
              "      <td>3-5 Yrs of Exp</td>\n",
              "      <td>Cairo</td>\n",
              "      <td>[Microsoft Dynamics,  ERP,  Computer Science, ...</td>\n",
              "    </tr>\n",
              "    <tr>\n",
              "      <th>2862</th>\n",
              "      <td>.NET Developer (Desktop Application)</td>\n",
              "      <td>Confidential</td>\n",
              "      <td>Manial</td>\n",
              "      <td>Full Time</td>\n",
              "      <td>Experienced</td>\n",
              "      <td>2-5 Yrs of Exp</td>\n",
              "      <td>Cairo</td>\n",
              "      <td>[Information Technology (IT),  .NET,  C#,  Sof...</td>\n",
              "    </tr>\n",
              "  </tbody>\n",
              "</table>\n",
              "</div>\n",
              "      <button class=\"colab-df-convert\" onclick=\"convertToInteractive('df-d33d14d9-8f10-4731-b7b5-5787526aab20')\"\n",
              "              title=\"Convert this dataframe to an interactive table.\"\n",
              "              style=\"display:none;\">\n",
              "        \n",
              "  <svg xmlns=\"http://www.w3.org/2000/svg\" height=\"24px\"viewBox=\"0 0 24 24\"\n",
              "       width=\"24px\">\n",
              "    <path d=\"M0 0h24v24H0V0z\" fill=\"none\"/>\n",
              "    <path d=\"M18.56 5.44l.94 2.06.94-2.06 2.06-.94-2.06-.94-.94-2.06-.94 2.06-2.06.94zm-11 1L8.5 8.5l.94-2.06 2.06-.94-2.06-.94L8.5 2.5l-.94 2.06-2.06.94zm10 10l.94 2.06.94-2.06 2.06-.94-2.06-.94-.94-2.06-.94 2.06-2.06.94z\"/><path d=\"M17.41 7.96l-1.37-1.37c-.4-.4-.92-.59-1.43-.59-.52 0-1.04.2-1.43.59L10.3 9.45l-7.72 7.72c-.78.78-.78 2.05 0 2.83L4 21.41c.39.39.9.59 1.41.59.51 0 1.02-.2 1.41-.59l7.78-7.78 2.81-2.81c.8-.78.8-2.07 0-2.86zM5.41 20L4 18.59l7.72-7.72 1.47 1.35L5.41 20z\"/>\n",
              "  </svg>\n",
              "      </button>\n",
              "      \n",
              "  <style>\n",
              "    .colab-df-container {\n",
              "      display:flex;\n",
              "      flex-wrap:wrap;\n",
              "      gap: 12px;\n",
              "    }\n",
              "\n",
              "    .colab-df-convert {\n",
              "      background-color: #E8F0FE;\n",
              "      border: none;\n",
              "      border-radius: 50%;\n",
              "      cursor: pointer;\n",
              "      display: none;\n",
              "      fill: #1967D2;\n",
              "      height: 32px;\n",
              "      padding: 0 0 0 0;\n",
              "      width: 32px;\n",
              "    }\n",
              "\n",
              "    .colab-df-convert:hover {\n",
              "      background-color: #E2EBFA;\n",
              "      box-shadow: 0px 1px 2px rgba(60, 64, 67, 0.3), 0px 1px 3px 1px rgba(60, 64, 67, 0.15);\n",
              "      fill: #174EA6;\n",
              "    }\n",
              "\n",
              "    [theme=dark] .colab-df-convert {\n",
              "      background-color: #3B4455;\n",
              "      fill: #D2E3FC;\n",
              "    }\n",
              "\n",
              "    [theme=dark] .colab-df-convert:hover {\n",
              "      background-color: #434B5C;\n",
              "      box-shadow: 0px 1px 3px 1px rgba(0, 0, 0, 0.15);\n",
              "      filter: drop-shadow(0px 1px 2px rgba(0, 0, 0, 0.3));\n",
              "      fill: #FFFFFF;\n",
              "    }\n",
              "  </style>\n",
              "\n",
              "      <script>\n",
              "        const buttonEl =\n",
              "          document.querySelector('#df-d33d14d9-8f10-4731-b7b5-5787526aab20 button.colab-df-convert');\n",
              "        buttonEl.style.display =\n",
              "          google.colab.kernel.accessAllowed ? 'block' : 'none';\n",
              "\n",
              "        async function convertToInteractive(key) {\n",
              "          const element = document.querySelector('#df-d33d14d9-8f10-4731-b7b5-5787526aab20');\n",
              "          const dataTable =\n",
              "            await google.colab.kernel.invokeFunction('convertToInteractive',\n",
              "                                                     [key], {});\n",
              "          if (!dataTable) return;\n",
              "\n",
              "          const docLinkHtml = 'Like what you see? Visit the ' +\n",
              "            '<a target=\"_blank\" href=https://colab.research.google.com/notebooks/data_table.ipynb>data table notebook</a>'\n",
              "            + ' to learn more about interactive tables.';\n",
              "          element.innerHTML = '';\n",
              "          dataTable['output_type'] = 'display_data';\n",
              "          await google.colab.output.renderOutput(dataTable, element);\n",
              "          const docLink = document.createElement('div');\n",
              "          docLink.innerHTML = docLinkHtml;\n",
              "          element.appendChild(docLink);\n",
              "        }\n",
              "      </script>\n",
              "    </div>\n",
              "  </div>\n",
              "  "
            ]
          },
          "metadata": {},
          "execution_count": 10
        }
      ]
    },
    {
      "cell_type": "code",
      "source": [
        "df_skills = pd.DataFrame(df['Skills'].tolist()).fillna('').add_prefix('Skill_')"
      ],
      "metadata": {
        "id": "LbAaOHYtjOT5"
      },
      "execution_count": 11,
      "outputs": []
    },
    {
      "cell_type": "code",
      "source": [
        "df = pd.concat([df, df_skills], axis=1)"
      ],
      "metadata": {
        "id": "dh_N67TngNNh"
      },
      "execution_count": 12,
      "outputs": []
    },
    {
      "cell_type": "code",
      "source": [
        "# split the column of skills into multiple column\n",
        "skills=df['Skill_1'].value_counts().head()\n",
        "print(skills)\n",
        "skillsLabel=list(skills.keys())\n",
        "plt.xlabel(\"skill\")\n",
        "plt.ylabel(\"NumberOskills\")\n",
        "plt.title(\"most popular skills\")\n",
        "plt.bar(skillsLabel,skills)\n",
        "plt.show()"
      ],
      "metadata": {
        "colab": {
          "base_uri": "https://localhost:8080/",
          "height": 399
        },
        "id": "d9I8g68cgXXt",
        "outputId": "c5c3c8b2-4943-4937-811c-4e089c1e3d34"
      },
      "execution_count": 13,
      "outputs": [
        {
          "output_type": "stream",
          "name": "stdout",
          "text": [
            " Sales Target                   190\n",
            " Sales Skills                   183\n",
            " Computer Science               133\n",
            " Customer Service               114\n",
            " Information Technology (IT)    105\n",
            "Name: Skill_1, dtype: int64\n"
          ]
        },
        {
          "output_type": "display_data",
          "data": {
            "text/plain": [
              "<Figure size 432x288 with 1 Axes>"
            ],
            "image/png": "[encoded data removed]"
          },
          "metadata": {
            "needs_background": "light"
          }
        }
      ]
    }
  ]
}